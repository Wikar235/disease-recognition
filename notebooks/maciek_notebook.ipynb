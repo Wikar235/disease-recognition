{
 "cells": [
  {
   "cell_type": "code",
   "execution_count": 1,
   "id": "b1cdf438",
   "metadata": {},
   "outputs": [
    {
     "data": {
      "text/plain": [
       "<Figure size 2000x1500 with 0 Axes>"
      ]
     },
     "metadata": {},
     "output_type": "display_data"
    }
   ],
   "source": [
    "import os\n",
    "import numpy as np\n",
    "from matplotlib import pyplot as plt\n",
    "from PIL import Image\n",
    "\n",
    "path = 'D:\\dataset\\archive (2)'\n",
    "image_extensions = ['.jpg', '.jpeg', '.png', '.tiff', '.bmp']\n",
    "image_count = 0\n",
    "image_files = []\n",
    "\n",
    "for root, dirs, files in os.walk(path+\"/COCO/COCO/train\"):\n",
    "    for file in files:\n",
    "        if any(file.lower().endswith(ext) for ext in image_extensions):\n",
    "            image_count += 1\n",
    "            if len(image_files) < 5:\n",
    "                image_files.append(os.path.join(root, file))\n",
    "\n",
    "\n",
    "plt.figure(figsize=(20, 15))\n",
    "img = []\n",
    "\n",
    "for i, img_file in enumerate(image_files):\n",
    "    print(i, img_file)\n",
    "    img.append(Image.open(os.path.join(root, file)))\n",
    "    numpy_array_pil = np.array(img[i])\n",
    "\n",
    "    print(\"Image shape:\", numpy_array_pil.shape)\n",
    "    print(\"Image data type:\", numpy_array_pil.dtype)\n",
    "    print(\"Min pixel value:\", numpy_array_pil.min())\n",
    "    print(\"Max pixel value:\", numpy_array_pil.max())\n",
    "\n",
    "    plt.subplot(5, 1, i+1)\n",
    "    plt.imshow(img[i], cmap='gray' if img[i].mode == 'L' else None)\n",
    "    plt.title(f\"{os.path.basename(img_file)}\\n{img[i].size}\")\n",
    "    plt.axis('off')"
   ]
  },
  {
   "cell_type": "code",
   "execution_count": 5,
   "id": "bbf2a73b",
   "metadata": {},
   "outputs": [
    {
     "ename": "FileNotFoundError",
     "evalue": "[Errno 2] No such file or directory: 'D:/dataset/archive (2)/COCO/COCO/train'",
     "output_type": "error",
     "traceback": [
      "\u001b[0;31m---------------------------------------------------------------------------\u001b[0m",
      "\u001b[0;31mFileNotFoundError\u001b[0m                         Traceback (most recent call last)",
      "Cell \u001b[0;32mIn[5], line 7\u001b[0m\n\u001b[1;32m      3\u001b[0m \u001b[38;5;28;01mfrom\u001b[39;00m\u001b[38;5;250m \u001b[39m\u001b[38;5;21;01mPIL\u001b[39;00m\u001b[38;5;250m \u001b[39m\u001b[38;5;28;01mimport\u001b[39;00m Image\n\u001b[1;32m      5\u001b[0m image_folder \u001b[38;5;241m=\u001b[39m \u001b[38;5;124m'\u001b[39m\u001b[38;5;124mD:/dataset/archive (2)/COCO/COCO/train\u001b[39m\u001b[38;5;124m'\u001b[39m\n\u001b[0;32m----> 7\u001b[0m jpg_files \u001b[38;5;241m=\u001b[39m [f \u001b[38;5;28;01mfor\u001b[39;00m f \u001b[38;5;129;01min\u001b[39;00m \u001b[43mos\u001b[49m\u001b[38;5;241;43m.\u001b[39;49m\u001b[43mlistdir\u001b[49m\u001b[43m(\u001b[49m\u001b[43mimage_folder\u001b[49m\u001b[43m)\u001b[49m \u001b[38;5;28;01mif\u001b[39;00m f\u001b[38;5;241m.\u001b[39mlower()\u001b[38;5;241m.\u001b[39mendswith(\u001b[38;5;124m'\u001b[39m\u001b[38;5;124m.jpg\u001b[39m\u001b[38;5;124m'\u001b[39m)]\n\u001b[1;32m      8\u001b[0m \u001b[38;5;28mprint\u001b[39m(\u001b[38;5;124m\"\u001b[39m\u001b[38;5;124mFound .jpg files:\u001b[39m\u001b[38;5;124m\"\u001b[39m, jpg_files)\n\u001b[1;32m     10\u001b[0m \u001b[38;5;28;01mif\u001b[39;00m jpg_files:\n",
      "\u001b[0;31mFileNotFoundError\u001b[0m: [Errno 2] No such file or directory: 'D:/dataset/archive (2)/COCO/COCO/train'"
     ]
    }
   ],
   "source": [
    "import os\n",
    "from matplotlib import pyplot as plt\n",
    "from PIL import Image\n",
    "\n",
    "image_folder = 'D:/dataset/archive (2)/COCO/COCO/train'\n",
    "\n",
    "jpg_files = [f for f in os.listdir(image_folder) if f.lower().endswith('.jpg')]\n",
    "print(\"Found .jpg files:\", jpg_files)\n",
    "\n",
    "if jpg_files:\n",
    "    first_image_path = os.path.join(image_folder, jpg_files[0])\n",
    "    img = Image.open(first_image_path)\n",
    "    plt.imshow(img)\n",
    "    plt.title(jpg_files[0])\n",
    "    plt.axis('off')\n",
    "    plt.show()\n",
    "else:\n",
    "    print(\"No .jpg files found in the folder.\")"
   ]
  },
  {
   "cell_type": "code",
   "execution_count": null,
   "id": "313fc277",
   "metadata": {},
   "outputs": [],
   "source": []
  }
 ],
 "metadata": {
  "kernelspec": {
   "display_name": "x-ray-disease",
   "language": "python",
   "name": "python3"
  },
  "language_info": {
   "codemirror_mode": {
    "name": "ipython",
    "version": 3
   },
   "file_extension": ".py",
   "mimetype": "text/x-python",
   "name": "python",
   "nbconvert_exporter": "python",
   "pygments_lexer": "ipython3",
   "version": "3.10.6"
  }
 },
 "nbformat": 4,
 "nbformat_minor": 5
}
