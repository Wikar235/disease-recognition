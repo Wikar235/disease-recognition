{
 "cells": [
  {
   "cell_type": "markdown",
   "id": "bc671f05",
   "metadata": {},
   "source": [
    "## First day work"
   ]
  },
  {
   "cell_type": "code",
   "execution_count": 11,
   "id": "bfe882c4",
   "metadata": {},
   "outputs": [],
   "source": [
    "import os\n",
    "import numpy as np\n",
    "from matplotlib import pyplot as plt\n",
    "from PIL import Image, ImageDraw\n",
    "import pandas as pd"
   ]
  },
  {
   "cell_type": "code",
   "execution_count": 12,
   "id": "cefe677d",
   "metadata": {},
   "outputs": [],
   "source": [
    "from ultralytics import YOLO\n",
    "from ruamel.yaml import YAML\n"
   ]
  },
  {
   "cell_type": "markdown",
   "id": "3ff0e19b",
   "metadata": {},
   "source": [
    "### Load the data from kaggle"
   ]
  },
  {
   "cell_type": "code",
   "execution_count": 10,
   "id": "36c210b1",
   "metadata": {},
   "outputs": [
    {
     "name": "stdout",
     "output_type": "stream",
     "text": [
      "Warning: Looks like you're using an outdated `kagglehub` version (installed: 0.3.12), please consider upgrading to the latest version (0.3.13).\n",
      "Path to dataset files: /Users/zhangqi/.cache/kagglehub/datasets/lokisilvres/dental-disease-panoramic-detection-dataset/versions/6\n"
     ]
    }
   ],
   "source": [
    "import kagglehub\n",
    "\n",
    "# Download latest version\n",
    "path = kagglehub.dataset_download(\"lokisilvres/dental-disease-panoramic-detection-dataset\")\n",
    "\n",
    "print(\"Path to dataset files:\", path)"
   ]
  },
  {
   "cell_type": "markdown",
   "id": "b013b1e8",
   "metadata": {},
   "source": [
    "### Load a YOLOv8 model trained on custom data"
   ]
  },
  {
   "cell_type": "code",
   "execution_count": 9,
   "id": "db6a5d89",
   "metadata": {},
   "outputs": [],
   "source": [
    "# Load a model\n",
    "model = YOLO(\"yolo11n-seg.pt\")"
   ]
  },
  {
   "cell_type": "code",
   "execution_count": 10,
   "id": "a6b18b69",
   "metadata": {},
   "outputs": [],
   "source": [
    "#create a yaml parser\n",
    "yaml = YAML()\n",
    "\n",
    "#load the file\n",
    "with open(path + \"/YOLO/YOLO/data.yaml\") as f:\n",
    "    data_dict = yaml.load(f)\n",
    "\n",
    "data_dict[\"train\"] = path + \"/YOLO/YOLO/train/images\"\n",
    "data_dict[\"val\"] = path + \"/YOLO/YOLO/valid/images\"\n",
    "data_dict[\"test\"] = path + \"/YOLO/YOLO/test/images\"\n",
    "\n",
    "#save a new yaml file\n",
    "data_fixed_path = path + \"/YOLO/YOLO/data_fixed.yaml\"\n",
    "with open(data_fixed_path, \"w\") as f:\n",
    "    yaml.dump(data_dict, f)"
   ]
  },
  {
   "cell_type": "code",
   "execution_count": null,
   "id": "1411579c",
   "metadata": {},
   "outputs": [],
   "source": [
    "model.train(\n",
    "    data=data_fixed_path,\n",
    "    epochs=1,\n",
    "    imgsz=640\n",
    ")"
   ]
  },
  {
   "cell_type": "markdown",
   "id": "e2823ece",
   "metadata": {},
   "source": [
    "## Aug 27 Best Model Study"
   ]
  },
  {
   "cell_type": "markdown",
   "id": "5adfc8a5",
   "metadata": {},
   "source": [
    "### Load the given best model"
   ]
  },
  {
   "cell_type": "code",
   "execution_count": 6,
   "id": "ed59dab2",
   "metadata": {},
   "outputs": [],
   "source": [
    "from ultralytics import YOLO\n",
    "\n",
    "# Load a COCO-pretrained YOLOv8n model\n",
    "pt_file = path+\"/best.pt\"\n",
    "model = YOLO(pt_file)"
   ]
  }
 ],
 "metadata": {
  "kernelspec": {
   "display_name": "disease-recognition",
   "language": "python",
   "name": "python3"
  },
  "language_info": {
   "codemirror_mode": {
    "name": "ipython",
    "version": 3
   },
   "file_extension": ".py",
   "mimetype": "text/x-python",
   "name": "python",
   "nbconvert_exporter": "python",
   "pygments_lexer": "ipython3",
   "version": "3.10.6"
  }
 },
 "nbformat": 4,
 "nbformat_minor": 5
}
